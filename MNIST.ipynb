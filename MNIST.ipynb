{
 "cells": [
  {
   "attachments": {},
   "cell_type": "markdown",
   "metadata": {},
   "source": [
    "MNIST HAND-WRITTEN DIGIT RECOGNITION"
   ]
  },
  {
   "cell_type": "code",
   "execution_count": 1,
   "metadata": {},
   "outputs": [],
   "source": [
    "# immporting necessary libraries\n",
    "import numpy as np\n",
    "import matplotlib.pyplot as plt"
   ]
  },
  {
   "cell_type": "code",
   "execution_count": 2,
   "metadata": {},
   "outputs": [],
   "source": [
    "import keras"
   ]
  },
  {
   "cell_type": "code",
   "execution_count": 3,
   "metadata": {},
   "outputs": [],
   "source": [
    "from keras.datasets import mnist"
   ]
  },
  {
   "attachments": {},
   "cell_type": "markdown",
   "metadata": {},
   "source": [
    "Loading data using keras as train data and test data"
   ]
  },
  {
   "cell_type": "code",
   "execution_count": 4,
   "metadata": {},
   "outputs": [],
   "source": [
    "(x_train, y_train), (x_test, y_test) = mnist.load_data()"
   ]
  },
  {
   "cell_type": "code",
   "execution_count": 5,
   "metadata": {},
   "outputs": [
    {
     "data": {
      "text/plain": [
       "((60000, 28, 28), (60000,))"
      ]
     },
     "execution_count": 5,
     "metadata": {},
     "output_type": "execute_result"
    }
   ],
   "source": [
    "x_train.shape, y_train.shape"
   ]
  },
  {
   "attachments": {},
   "cell_type": "markdown",
   "metadata": {},
   "source": [
    "Plotting the image(color image)"
   ]
  },
  {
   "cell_type": "code",
   "execution_count": 6,
   "metadata": {},
   "outputs": [
    {
     "data": {
      "text/plain": [
       "<matplotlib.image.AxesImage at 0x1a2d028a7f0>"
      ]
     },
     "execution_count": 6,
     "metadata": {},
     "output_type": "execute_result"
    },
    {
     "data": {
      "image/png": "[encoded data removed]",
      "text/plain": [
       "<Figure size 640x480 with 1 Axes>"
      ]
     },
     "metadata": {},
     "output_type": "display_data"
    }
   ],
   "source": [
    "plt.imshow(x_train[0])"
   ]
  },
  {
   "attachments": {},
   "cell_type": "markdown",
   "metadata": {},
   "source": [
    "Plotting the grey scale image"
   ]
  },
  {
   "cell_type": "code",
   "execution_count": 7,
   "metadata": {},
   "outputs": [
    {
     "data": {
      "text/plain": [
       "<matplotlib.image.AxesImage at 0x1a2d22d4be0>"
      ]
     },
     "execution_count": 7,
     "metadata": {},
     "output_type": "execute_result"
    },
    {
     "data": {
      "image/png": "[encoded data removed]",
      "text/plain": [
       "<Figure size 640x480 with 1 Axes>"
      ]
     },
     "metadata": {},
     "output_type": "display_data"
    }
   ],
   "source": [
    "plt.imshow(x_train[0], cmap = 'binary')"
   ]
  },
  {
   "attachments": {},
   "cell_type": "markdown",
   "metadata": {},
   "source": [
    "Data pre-processing"
   ]
  },
  {
   "cell_type": "code",
   "execution_count": 8,
   "metadata": {},
   "outputs": [],
   "source": [
    "# normalizing the image, values lie in range 0 to 1, both inclusive\n",
    "x_train = x_train.astype(np.float32)/255\n",
    "x_test = x_test.astype(np.float32)/255"
   ]
  },
  {
   "cell_type": "code",
   "execution_count": 9,
   "metadata": {},
   "outputs": [],
   "source": [
    "# reshaping the images because model takes in 3D data\n",
    "x_train = np.expand_dims(x_train, -1)\n",
    "x_test = np.expand_dims(x_test, -1)"
   ]
  },
  {
   "cell_type": "code",
   "execution_count": 10,
   "metadata": {},
   "outputs": [
    {
     "data": {
      "text/plain": [
       "(60000, 28, 28, 1)"
      ]
     },
     "execution_count": 10,
     "metadata": {},
     "output_type": "execute_result"
    }
   ],
   "source": [
    "x_train.shape"
   ]
  },
  {
   "attachments": {},
   "cell_type": "markdown",
   "metadata": {},
   "source": [
    "Applying one-hot encoding on output labels, since there are 10 output labels and it is a classification problem"
   ]
  },
  {
   "cell_type": "code",
   "execution_count": 11,
   "metadata": {},
   "outputs": [],
   "source": [
    "# implementing it using keras\n",
    "y_train = keras.utils.to_categorical(y_train)\n",
    "y_test = keras.utils.to_categorical(y_test)"
   ]
  },
  {
   "cell_type": "code",
   "execution_count": 12,
   "metadata": {},
   "outputs": [
    {
     "data": {
      "text/plain": [
       "(60000, 10)"
      ]
     },
     "execution_count": 12,
     "metadata": {},
     "output_type": "execute_result"
    }
   ],
   "source": [
    "y_train.shape"
   ]
  },
  {
   "cell_type": "code",
   "execution_count": 13,
   "metadata": {},
   "outputs": [
    {
     "data": {
      "text/plain": [
       "array([[0., 0., 0., ..., 0., 0., 0.],\n",
       "       [1., 0., 0., ..., 0., 0., 0.],\n",
       "       [0., 0., 0., ..., 0., 0., 0.],\n",
       "       ...,\n",
       "       [0., 0., 0., ..., 0., 0., 0.],\n",
       "       [0., 0., 0., ..., 0., 0., 0.],\n",
       "       [0., 0., 0., ..., 0., 1., 0.]], dtype=float32)"
      ]
     },
     "execution_count": 13,
     "metadata": {},
     "output_type": "execute_result"
    }
   ],
   "source": [
    "y_train"
   ]
  },
  {
   "attachments": {},
   "cell_type": "markdown",
   "metadata": {},
   "source": [
    "Building the model"
   ]
  },
  {
   "cell_type": "code",
   "execution_count": 14,
   "metadata": {},
   "outputs": [],
   "source": [
    "# importing necessary libraries\n",
    "from keras.models import Sequential\n",
    "from keras.layers import Dense, Conv2D, MaxPool2D, Flatten, Dropout"
   ]
  },
  {
   "cell_type": "code",
   "execution_count": 15,
   "metadata": {},
   "outputs": [],
   "source": [
    "# creating object of sequential model\n",
    "model = Sequential()"
   ]
  },
  {
   "cell_type": "code",
   "execution_count": 16,
   "metadata": {},
   "outputs": [],
   "source": [
    "# adding deep neural layers to model\n",
    "model.add(Conv2D(32, (3,3), input_shape = (28,28,1), activation = 'relu'))\n",
    "model.add(MaxPool2D((2,2)))\n",
    "\n",
    "model.add(Conv2D(32, (3,3), activation = 'relu'))\n",
    "model.add(MaxPool2D((2,2)))\n",
    "\n",
    "model.add(Flatten())\n",
    "\n",
    "# to prevent overfitting we add dropout\n",
    "model.add(Dropout(0.25))\n",
    "\n",
    "model.add(Dense(10, activation = 'softmax'))"
   ]
  },
  {
   "attachments": {},
   "cell_type": "markdown",
   "metadata": {},
   "source": [
    "In handwritten digit recognition, Conv2D is responsible for extracting important features from the input images. These features help the neural network accurately recognize and classify the digits. By applying multiple filters, Conv2D learns to detect patterns and textures, such as edges and curves, at different orientations and scales. It also allows the network to recognize digits regardless of their position within the image. Conv2D layers are stacked to create a deep architecture, enabling the network to learn both low-level details and high-level concepts. The use of pooling layers reduces the spatial dimensions of the features, focusing on the most relevant information. Finally, fully connected layers classify the digits based on the learned features. Overall, Conv2D plays a crucial role in capturing meaningful information and improving the accuracy of handwritten digit recognition models."
   ]
  },
  {
   "attachments": {},
   "cell_type": "markdown",
   "metadata": {},
   "source": [
    "\n",
    "MaxPooling (MaxPool) in handwritten digit recognition has the following concise roles:\n",
    "\n",
    "Downsampling: MaxPool reduces the spatial dimensions of feature maps obtained from Convolutional layers.\n",
    "\n",
    "Translation invariance: It enables recognizing features regardless of their precise location in the image, making the network robust to small shifts.\n",
    "\n",
    "Feature selection: MaxPool emphasizes the most prominent features by selecting the maximum value within each region, suppressing irrelevant information.\n",
    "\n",
    "Efficiency: Downsampling reduces parameters, computations, and memory requirements, making the network more efficient.\n",
    "\n",
    "In summary, MaxPool reduces dimensions, enhances translation invariance, selects important features, and improves the overall efficiency of the handwritten digit recognition network"
   ]
  },
  {
   "cell_type": "code",
   "execution_count": 17,
   "metadata": {},
   "outputs": [
    {
     "name": "stdout",
     "output_type": "stream",
     "text": [
      "Model: \"sequential\"\n",
      "_________________________________________________________________\n",
      " Layer (type)                Output Shape              Param #   \n",
      "=================================================================\n",
      " conv2d (Conv2D)             (None, 26, 26, 32)        320       \n",
      "                                                                 \n",
      " max_pooling2d (MaxPooling2D  (None, 13, 13, 32)       0         \n",
      " )                                                               \n",
      "                                                                 \n",
      " conv2d_1 (Conv2D)           (None, 11, 11, 32)        9248      \n",
      "                                                                 \n",
      " max_pooling2d_1 (MaxPooling  (None, 5, 5, 32)         0         \n",
      " 2D)                                                             \n",
      "                                                                 \n",
      " flatten (Flatten)           (None, 800)               0         \n",
      "                                                                 \n",
      " dropout (Dropout)           (None, 800)               0         \n",
      "                                                                 \n",
      " dense (Dense)               (None, 10)                8010      \n",
      "                                                                 \n",
      "=================================================================\n",
      "Total params: 17,578\n",
      "Trainable params: 17,578\n",
      "Non-trainable params: 0\n",
      "_________________________________________________________________\n"
     ]
    }
   ],
   "source": [
    "model.summary()"
   ]
  },
  {
   "cell_type": "code",
   "execution_count": 18,
   "metadata": {},
   "outputs": [],
   "source": [
    "# this line of code is used for gradient descent using accuracy as metric and adam as optimizer\n",
    "model.compile(optimizer = 'adam', loss = keras.losses.categorical_crossentropy, metrics=['accuracy'])\n"
   ]
  },
  {
   "cell_type": "code",
   "execution_count": 19,
   "metadata": {},
   "outputs": [],
   "source": [
    "# adding callbacks\n",
    "\n",
    "from keras.callbacks import EarlyStopping, ModelCheckpoint\n",
    "\n",
    "# early stopping\n",
    "es = EarlyStopping(monitor='val_acc', min_delta=0.01, patience=4, verbose=1)\n",
    "\n",
    "# model checkpoint\n",
    "mc = ModelCheckpoint(\"./bestmodel.h5\", monitor='val_acc', verbose=1, save_best_only = True)\n",
    "\n",
    "cb = [es, mc]"
   ]
  },
  {
   "cell_type": "code",
   "execution_count": 21,
   "metadata": {},
   "outputs": [
    {
     "name": "stdout",
     "output_type": "stream",
     "text": [
      "Epoch 1/50\n",
      "1312/1313 [============================>.] - ETA: 0s - loss: 0.0676 - accuracy: 0.9788WARNING:tensorflow:Early stopping conditioned on metric `val_acc` which is not available. Available metrics are: loss,accuracy,val_loss,val_accuracy\n",
      "WARNING:tensorflow:Can save best model only with val_acc available, skipping.\n",
      "1313/1313 [==============================] - 19s 15ms/step - loss: 0.0676 - accuracy: 0.9788 - val_loss: 0.0573 - val_accuracy: 0.9818\n",
      "Epoch 2/50\n",
      "1308/1313 [============================>.] - ETA: 0s - loss: 0.0568 - accuracy: 0.9820WARNING:tensorflow:Early stopping conditioned on metric `val_acc` which is not available. Available metrics are: loss,accuracy,val_loss,val_accuracy\n",
      "WARNING:tensorflow:Can save best model only with val_acc available, skipping.\n",
      "1313/1313 [==============================] - 17s 13ms/step - loss: 0.0567 - accuracy: 0.9821 - val_loss: 0.0495 - val_accuracy: 0.9838\n",
      "Epoch 3/50\n",
      "1312/1313 [============================>.] - ETA: 0s - loss: 0.0500 - accuracy: 0.9842WARNING:tensorflow:Early stopping conditioned on metric `val_acc` which is not available. Available metrics are: loss,accuracy,val_loss,val_accuracy\n",
      "WARNING:tensorflow:Can save best model only with val_acc available, skipping.\n",
      "1313/1313 [==============================] - 17s 13ms/step - loss: 0.0500 - accuracy: 0.9842 - val_loss: 0.0464 - val_accuracy: 0.9867\n",
      "Epoch 4/50\n",
      "1312/1313 [============================>.] - ETA: 0s - loss: 0.0439 - accuracy: 0.9871WARNING:tensorflow:Early stopping conditioned on metric `val_acc` which is not available. Available metrics are: loss,accuracy,val_loss,val_accuracy\n",
      "WARNING:tensorflow:Can save best model only with val_acc available, skipping.\n",
      "1313/1313 [==============================] - 18s 14ms/step - loss: 0.0441 - accuracy: 0.9871 - val_loss: 0.0445 - val_accuracy: 0.9867\n",
      "Epoch 5/50\n",
      "1312/1313 [============================>.] - ETA: 0s - loss: 0.0418 - accuracy: 0.9868WARNING:tensorflow:Early stopping conditioned on metric `val_acc` which is not available. Available metrics are: loss,accuracy,val_loss,val_accuracy\n",
      "WARNING:tensorflow:Can save best model only with val_acc available, skipping.\n",
      "1313/1313 [==============================] - 18s 13ms/step - loss: 0.0419 - accuracy: 0.9867 - val_loss: 0.0441 - val_accuracy: 0.9866\n",
      "Epoch 6/50\n",
      "1312/1313 [============================>.] - ETA: 0s - loss: 0.0374 - accuracy: 0.9876WARNING:tensorflow:Early stopping conditioned on metric `val_acc` which is not available. Available metrics are: loss,accuracy,val_loss,val_accuracy\n",
      "WARNING:tensorflow:Can save best model only with val_acc available, skipping.\n",
      "1313/1313 [==============================] - 17s 13ms/step - loss: 0.0373 - accuracy: 0.9876 - val_loss: 0.0525 - val_accuracy: 0.9841\n",
      "Epoch 7/50\n",
      "1309/1313 [============================>.] - ETA: 0s - loss: 0.0345 - accuracy: 0.9887WARNING:tensorflow:Early stopping conditioned on metric `val_acc` which is not available. Available metrics are: loss,accuracy,val_loss,val_accuracy\n",
      "WARNING:tensorflow:Can save best model only with val_acc available, skipping.\n",
      "1313/1313 [==============================] - 16s 12ms/step - loss: 0.0347 - accuracy: 0.9887 - val_loss: 0.0399 - val_accuracy: 0.9879\n",
      "Epoch 8/50\n",
      "1312/1313 [============================>.] - ETA: 0s - loss: 0.0322 - accuracy: 0.9897WARNING:tensorflow:Early stopping conditioned on metric `val_acc` which is not available. Available metrics are: loss,accuracy,val_loss,val_accuracy\n",
      "WARNING:tensorflow:Can save best model only with val_acc available, skipping.\n",
      "1313/1313 [==============================] - 19s 14ms/step - loss: 0.0322 - accuracy: 0.9897 - val_loss: 0.0388 - val_accuracy: 0.9882\n",
      "Epoch 9/50\n",
      "1309/1313 [============================>.] - ETA: 0s - loss: 0.0293 - accuracy: 0.9905WARNING:tensorflow:Early stopping conditioned on metric `val_acc` which is not available. Available metrics are: loss,accuracy,val_loss,val_accuracy\n",
      "WARNING:tensorflow:Can save best model only with val_acc available, skipping.\n",
      "1313/1313 [==============================] - 17s 13ms/step - loss: 0.0293 - accuracy: 0.9905 - val_loss: 0.0412 - val_accuracy: 0.9884\n",
      "Epoch 10/50\n",
      "1311/1313 [============================>.] - ETA: 0s - loss: 0.0278 - accuracy: 0.9908WARNING:tensorflow:Early stopping conditioned on metric `val_acc` which is not available. Available metrics are: loss,accuracy,val_loss,val_accuracy\n",
      "WARNING:tensorflow:Can save best model only with val_acc available, skipping.\n",
      "1313/1313 [==============================] - 17s 13ms/step - loss: 0.0278 - accuracy: 0.9907 - val_loss: 0.0406 - val_accuracy: 0.9878\n",
      "Epoch 11/50\n",
      "1308/1313 [============================>.] - ETA: 0s - loss: 0.0263 - accuracy: 0.9913WARNING:tensorflow:Early stopping conditioned on metric `val_acc` which is not available. Available metrics are: loss,accuracy,val_loss,val_accuracy\n",
      "WARNING:tensorflow:Can save best model only with val_acc available, skipping.\n",
      "1313/1313 [==============================] - 16s 12ms/step - loss: 0.0263 - accuracy: 0.9913 - val_loss: 0.0426 - val_accuracy: 0.9885\n",
      "Epoch 12/50\n",
      "1308/1313 [============================>.] - ETA: 0s - loss: 0.0256 - accuracy: 0.9913WARNING:tensorflow:Early stopping conditioned on metric `val_acc` which is not available. Available metrics are: loss,accuracy,val_loss,val_accuracy\n",
      "WARNING:tensorflow:Can save best model only with val_acc available, skipping.\n",
      "1313/1313 [==============================] - 17s 13ms/step - loss: 0.0257 - accuracy: 0.9913 - val_loss: 0.0408 - val_accuracy: 0.9883\n",
      "Epoch 13/50\n",
      "1311/1313 [============================>.] - ETA: 0s - loss: 0.0246 - accuracy: 0.9919WARNING:tensorflow:Early stopping conditioned on metric `val_acc` which is not available. Available metrics are: loss,accuracy,val_loss,val_accuracy\n",
      "WARNING:tensorflow:Can save best model only with val_acc available, skipping.\n",
      "1313/1313 [==============================] - 16s 12ms/step - loss: 0.0246 - accuracy: 0.9919 - val_loss: 0.0396 - val_accuracy: 0.9889\n",
      "Epoch 14/50\n",
      "1308/1313 [============================>.] - ETA: 0s - loss: 0.0233 - accuracy: 0.9923WARNING:tensorflow:Early stopping conditioned on metric `val_acc` which is not available. Available metrics are: loss,accuracy,val_loss,val_accuracy\n",
      "WARNING:tensorflow:Can save best model only with val_acc available, skipping.\n",
      "1313/1313 [==============================] - 17s 13ms/step - loss: 0.0235 - accuracy: 0.9922 - val_loss: 0.0371 - val_accuracy: 0.9891\n",
      "Epoch 15/50\n",
      "1309/1313 [============================>.] - ETA: 0s - loss: 0.0230 - accuracy: 0.9924WARNING:tensorflow:Early stopping conditioned on metric `val_acc` which is not available. Available metrics are: loss,accuracy,val_loss,val_accuracy\n",
      "WARNING:tensorflow:Can save best model only with val_acc available, skipping.\n",
      "1313/1313 [==============================] - 17s 13ms/step - loss: 0.0230 - accuracy: 0.9924 - val_loss: 0.0388 - val_accuracy: 0.9896\n",
      "Epoch 16/50\n",
      "1310/1313 [============================>.] - ETA: 0s - loss: 0.0225 - accuracy: 0.9922WARNING:tensorflow:Early stopping conditioned on metric `val_acc` which is not available. Available metrics are: loss,accuracy,val_loss,val_accuracy\n",
      "WARNING:tensorflow:Can save best model only with val_acc available, skipping.\n",
      "1313/1313 [==============================] - 17s 13ms/step - loss: 0.0225 - accuracy: 0.9922 - val_loss: 0.0397 - val_accuracy: 0.9893\n",
      "Epoch 17/50\n",
      "1312/1313 [============================>.] - ETA: 0s - loss: 0.0195 - accuracy: 0.9935WARNING:tensorflow:Early stopping conditioned on metric `val_acc` which is not available. Available metrics are: loss,accuracy,val_loss,val_accuracy\n",
      "WARNING:tensorflow:Can save best model only with val_acc available, skipping.\n",
      "1313/1313 [==============================] - 17s 13ms/step - loss: 0.0196 - accuracy: 0.9935 - val_loss: 0.0378 - val_accuracy: 0.9896\n",
      "Epoch 18/50\n",
      "1312/1313 [============================>.] - ETA: 0s - loss: 0.0195 - accuracy: 0.9932WARNING:tensorflow:Early stopping conditioned on metric `val_acc` which is not available. Available metrics are: loss,accuracy,val_loss,val_accuracy\n",
      "WARNING:tensorflow:Can save best model only with val_acc available, skipping.\n",
      "1313/1313 [==============================] - 17s 13ms/step - loss: 0.0195 - accuracy: 0.9932 - val_loss: 0.0330 - val_accuracy: 0.9905\n",
      "Epoch 19/50\n",
      "1308/1313 [============================>.] - ETA: 0s - loss: 0.0182 - accuracy: 0.9941WARNING:tensorflow:Early stopping conditioned on metric `val_acc` which is not available. Available metrics are: loss,accuracy,val_loss,val_accuracy\n",
      "WARNING:tensorflow:Can save best model only with val_acc available, skipping.\n",
      "1313/1313 [==============================] - 17s 13ms/step - loss: 0.0183 - accuracy: 0.9941 - val_loss: 0.0370 - val_accuracy: 0.9903\n",
      "Epoch 20/50\n",
      "1309/1313 [============================>.] - ETA: 0s - loss: 0.0172 - accuracy: 0.9940WARNING:tensorflow:Early stopping conditioned on metric `val_acc` which is not available. Available metrics are: loss,accuracy,val_loss,val_accuracy\n",
      "WARNING:tensorflow:Can save best model only with val_acc available, skipping.\n",
      "1313/1313 [==============================] - 17s 13ms/step - loss: 0.0172 - accuracy: 0.9940 - val_loss: 0.0422 - val_accuracy: 0.9892\n",
      "Epoch 21/50\n",
      "1309/1313 [============================>.] - ETA: 0s - loss: 0.0173 - accuracy: 0.9940WARNING:tensorflow:Early stopping conditioned on metric `val_acc` which is not available. Available metrics are: loss,accuracy,val_loss,val_accuracy\n",
      "WARNING:tensorflow:Can save best model only with val_acc available, skipping.\n",
      "1313/1313 [==============================] - 17s 13ms/step - loss: 0.0173 - accuracy: 0.9940 - val_loss: 0.0389 - val_accuracy: 0.9903\n",
      "Epoch 22/50\n",
      "1311/1313 [============================>.] - ETA: 0s - loss: 0.0157 - accuracy: 0.9944WARNING:tensorflow:Early stopping conditioned on metric `val_acc` which is not available. Available metrics are: loss,accuracy,val_loss,val_accuracy\n",
      "WARNING:tensorflow:Can save best model only with val_acc available, skipping.\n",
      "1313/1313 [==============================] - 17s 13ms/step - loss: 0.0157 - accuracy: 0.9944 - val_loss: 0.0389 - val_accuracy: 0.9893\n",
      "Epoch 23/50\n",
      "1313/1313 [==============================] - ETA: 0s - loss: 0.0162 - accuracy: 0.9946WARNING:tensorflow:Early stopping conditioned on metric `val_acc` which is not available. Available metrics are: loss,accuracy,val_loss,val_accuracy\n",
      "WARNING:tensorflow:Can save best model only with val_acc available, skipping.\n",
      "1313/1313 [==============================] - 17s 13ms/step - loss: 0.0162 - accuracy: 0.9946 - val_loss: 0.0407 - val_accuracy: 0.9891\n",
      "Epoch 24/50\n",
      "1310/1313 [============================>.] - ETA: 0s - loss: 0.0170 - accuracy: 0.9942WARNING:tensorflow:Early stopping conditioned on metric `val_acc` which is not available. Available metrics are: loss,accuracy,val_loss,val_accuracy\n",
      "WARNING:tensorflow:Can save best model only with val_acc available, skipping.\n",
      "1313/1313 [==============================] - 17s 13ms/step - loss: 0.0170 - accuracy: 0.9942 - val_loss: 0.0405 - val_accuracy: 0.9896\n",
      "Epoch 25/50\n",
      "1312/1313 [============================>.] - ETA: 0s - loss: 0.0159 - accuracy: 0.9943WARNING:tensorflow:Early stopping conditioned on metric `val_acc` which is not available. Available metrics are: loss,accuracy,val_loss,val_accuracy\n",
      "WARNING:tensorflow:Can save best model only with val_acc available, skipping.\n",
      "1313/1313 [==============================] - 17s 13ms/step - loss: 0.0159 - accuracy: 0.9943 - val_loss: 0.0457 - val_accuracy: 0.9884\n",
      "Epoch 26/50\n",
      "1311/1313 [============================>.] - ETA: 0s - loss: 0.0172 - accuracy: 0.9945WARNING:tensorflow:Early stopping conditioned on metric `val_acc` which is not available. Available metrics are: loss,accuracy,val_loss,val_accuracy\n",
      "WARNING:tensorflow:Can save best model only with val_acc available, skipping.\n",
      "1313/1313 [==============================] - 17s 13ms/step - loss: 0.0173 - accuracy: 0.9945 - val_loss: 0.0366 - val_accuracy: 0.9908\n",
      "Epoch 27/50\n",
      "1312/1313 [============================>.] - ETA: 0s - loss: 0.0141 - accuracy: 0.9952WARNING:tensorflow:Early stopping conditioned on metric `val_acc` which is not available. Available metrics are: loss,accuracy,val_loss,val_accuracy\n",
      "WARNING:tensorflow:Can save best model only with val_acc available, skipping.\n",
      "1313/1313 [==============================] - 17s 13ms/step - loss: 0.0141 - accuracy: 0.9952 - val_loss: 0.0389 - val_accuracy: 0.9906\n",
      "Epoch 28/50\n",
      "1310/1313 [============================>.] - ETA: 0s - loss: 0.0160 - accuracy: 0.9944WARNING:tensorflow:Early stopping conditioned on metric `val_acc` which is not available. Available metrics are: loss,accuracy,val_loss,val_accuracy\n",
      "WARNING:tensorflow:Can save best model only with val_acc available, skipping.\n",
      "1313/1313 [==============================] - 17s 13ms/step - loss: 0.0160 - accuracy: 0.9944 - val_loss: 0.0386 - val_accuracy: 0.9903\n",
      "Epoch 29/50\n",
      "1311/1313 [============================>.] - ETA: 0s - loss: 0.0143 - accuracy: 0.9950WARNING:tensorflow:Early stopping conditioned on metric `val_acc` which is not available. Available metrics are: loss,accuracy,val_loss,val_accuracy\n",
      "WARNING:tensorflow:Can save best model only with val_acc available, skipping.\n",
      "1313/1313 [==============================] - 17s 13ms/step - loss: 0.0143 - accuracy: 0.9950 - val_loss: 0.0416 - val_accuracy: 0.9894\n",
      "Epoch 30/50\n",
      "1313/1313 [==============================] - ETA: 0s - loss: 0.0139 - accuracy: 0.9953WARNING:tensorflow:Early stopping conditioned on metric `val_acc` which is not available. Available metrics are: loss,accuracy,val_loss,val_accuracy\n",
      "WARNING:tensorflow:Can save best model only with val_acc available, skipping.\n",
      "1313/1313 [==============================] - 17s 13ms/step - loss: 0.0139 - accuracy: 0.9953 - val_loss: 0.0435 - val_accuracy: 0.9898\n",
      "Epoch 31/50\n",
      "1310/1313 [============================>.] - ETA: 0s - loss: 0.0131 - accuracy: 0.9950WARNING:tensorflow:Early stopping conditioned on metric `val_acc` which is not available. Available metrics are: loss,accuracy,val_loss,val_accuracy\n",
      "WARNING:tensorflow:Can save best model only with val_acc available, skipping.\n",
      "1313/1313 [==============================] - 17s 13ms/step - loss: 0.0133 - accuracy: 0.9949 - val_loss: 0.0417 - val_accuracy: 0.9903\n",
      "Epoch 32/50\n",
      "1309/1313 [============================>.] - ETA: 0s - loss: 0.0130 - accuracy: 0.9952WARNING:tensorflow:Early stopping conditioned on metric `val_acc` which is not available. Available metrics are: loss,accuracy,val_loss,val_accuracy\n",
      "WARNING:tensorflow:Can save best model only with val_acc available, skipping.\n",
      "1313/1313 [==============================] - 17s 13ms/step - loss: 0.0129 - accuracy: 0.9952 - val_loss: 0.0403 - val_accuracy: 0.9910\n",
      "Epoch 33/50\n",
      "1313/1313 [==============================] - ETA: 0s - loss: 0.0128 - accuracy: 0.9952WARNING:tensorflow:Early stopping conditioned on metric `val_acc` which is not available. Available metrics are: loss,accuracy,val_loss,val_accuracy\n",
      "WARNING:tensorflow:Can save best model only with val_acc available, skipping.\n",
      "1313/1313 [==============================] - 17s 13ms/step - loss: 0.0128 - accuracy: 0.9952 - val_loss: 0.0432 - val_accuracy: 0.9901\n",
      "Epoch 34/50\n",
      "1309/1313 [============================>.] - ETA: 0s - loss: 0.0118 - accuracy: 0.9960WARNING:tensorflow:Early stopping conditioned on metric `val_acc` which is not available. Available metrics are: loss,accuracy,val_loss,val_accuracy\n",
      "WARNING:tensorflow:Can save best model only with val_acc available, skipping.\n",
      "1313/1313 [==============================] - 17s 13ms/step - loss: 0.0117 - accuracy: 0.9960 - val_loss: 0.0421 - val_accuracy: 0.9899\n",
      "Epoch 35/50\n",
      "1313/1313 [==============================] - ETA: 0s - loss: 0.0127 - accuracy: 0.9954WARNING:tensorflow:Early stopping conditioned on metric `val_acc` which is not available. Available metrics are: loss,accuracy,val_loss,val_accuracy\n",
      "WARNING:tensorflow:Can save best model only with val_acc available, skipping.\n",
      "1313/1313 [==============================] - 17s 13ms/step - loss: 0.0127 - accuracy: 0.9954 - val_loss: 0.0398 - val_accuracy: 0.9904\n",
      "Epoch 36/50\n",
      "1312/1313 [============================>.] - ETA: 0s - loss: 0.0138 - accuracy: 0.9951WARNING:tensorflow:Early stopping conditioned on metric `val_acc` which is not available. Available metrics are: loss,accuracy,val_loss,val_accuracy\n",
      "WARNING:tensorflow:Can save best model only with val_acc available, skipping.\n",
      "1313/1313 [==============================] - 17s 13ms/step - loss: 0.0138 - accuracy: 0.9951 - val_loss: 0.0369 - val_accuracy: 0.9911\n",
      "Epoch 37/50\n",
      "1313/1313 [==============================] - ETA: 0s - loss: 0.0108 - accuracy: 0.9961WARNING:tensorflow:Early stopping conditioned on metric `val_acc` which is not available. Available metrics are: loss,accuracy,val_loss,val_accuracy\n",
      "WARNING:tensorflow:Can save best model only with val_acc available, skipping.\n",
      "1313/1313 [==============================] - 17s 13ms/step - loss: 0.0108 - accuracy: 0.9961 - val_loss: 0.0411 - val_accuracy: 0.9904\n",
      "Epoch 38/50\n",
      "1310/1313 [============================>.] - ETA: 0s - loss: 0.0108 - accuracy: 0.9963WARNING:tensorflow:Early stopping conditioned on metric `val_acc` which is not available. Available metrics are: loss,accuracy,val_loss,val_accuracy\n",
      "WARNING:tensorflow:Can save best model only with val_acc available, skipping.\n",
      "1313/1313 [==============================] - 18s 13ms/step - loss: 0.0108 - accuracy: 0.9963 - val_loss: 0.0429 - val_accuracy: 0.9903\n",
      "Epoch 39/50\n",
      "1312/1313 [============================>.] - ETA: 0s - loss: 0.0125 - accuracy: 0.9960WARNING:tensorflow:Early stopping conditioned on metric `val_acc` which is not available. Available metrics are: loss,accuracy,val_loss,val_accuracy\n",
      "WARNING:tensorflow:Can save best model only with val_acc available, skipping.\n",
      "1313/1313 [==============================] - 17s 13ms/step - loss: 0.0126 - accuracy: 0.9960 - val_loss: 0.0391 - val_accuracy: 0.9914\n",
      "Epoch 40/50\n",
      "1310/1313 [============================>.] - ETA: 0s - loss: 0.0115 - accuracy: 0.9959WARNING:tensorflow:Early stopping conditioned on metric `val_acc` which is not available. Available metrics are: loss,accuracy,val_loss,val_accuracy\n",
      "WARNING:tensorflow:Can save best model only with val_acc available, skipping.\n",
      "1313/1313 [==============================] - 17s 13ms/step - loss: 0.0115 - accuracy: 0.9959 - val_loss: 0.0408 - val_accuracy: 0.9903\n",
      "Epoch 41/50\n",
      "1309/1313 [============================>.] - ETA: 0s - loss: 0.0108 - accuracy: 0.9961WARNING:tensorflow:Early stopping conditioned on metric `val_acc` which is not available. Available metrics are: loss,accuracy,val_loss,val_accuracy\n",
      "WARNING:tensorflow:Can save best model only with val_acc available, skipping.\n",
      "1313/1313 [==============================] - 17s 13ms/step - loss: 0.0108 - accuracy: 0.9961 - val_loss: 0.0449 - val_accuracy: 0.9896\n",
      "Epoch 42/50\n",
      "1311/1313 [============================>.] - ETA: 0s - loss: 0.0113 - accuracy: 0.9959WARNING:tensorflow:Early stopping conditioned on metric `val_acc` which is not available. Available metrics are: loss,accuracy,val_loss,val_accuracy\n",
      "WARNING:tensorflow:Can save best model only with val_acc available, skipping.\n",
      "1313/1313 [==============================] - 18s 13ms/step - loss: 0.0113 - accuracy: 0.9959 - val_loss: 0.0406 - val_accuracy: 0.9907\n",
      "Epoch 43/50\n",
      "1312/1313 [============================>.] - ETA: 0s - loss: 0.0113 - accuracy: 0.9960WARNING:tensorflow:Early stopping conditioned on metric `val_acc` which is not available. Available metrics are: loss,accuracy,val_loss,val_accuracy\n",
      "WARNING:tensorflow:Can save best model only with val_acc available, skipping.\n",
      "1313/1313 [==============================] - 17s 13ms/step - loss: 0.0113 - accuracy: 0.9960 - val_loss: 0.0421 - val_accuracy: 0.9904\n",
      "Epoch 44/50\n",
      "1311/1313 [============================>.] - ETA: 0s - loss: 0.0111 - accuracy: 0.9961WARNING:tensorflow:Early stopping conditioned on metric `val_acc` which is not available. Available metrics are: loss,accuracy,val_loss,val_accuracy\n",
      "WARNING:tensorflow:Can save best model only with val_acc available, skipping.\n",
      "1313/1313 [==============================] - 17s 13ms/step - loss: 0.0111 - accuracy: 0.9961 - val_loss: 0.0403 - val_accuracy: 0.9909\n",
      "Epoch 45/50\n",
      "1310/1313 [============================>.] - ETA: 0s - loss: 0.0108 - accuracy: 0.9964WARNING:tensorflow:Early stopping conditioned on metric `val_acc` which is not available. Available metrics are: loss,accuracy,val_loss,val_accuracy\n",
      "WARNING:tensorflow:Can save best model only with val_acc available, skipping.\n",
      "1313/1313 [==============================] - 18s 13ms/step - loss: 0.0108 - accuracy: 0.9964 - val_loss: 0.0442 - val_accuracy: 0.9907\n",
      "Epoch 46/50\n",
      "1312/1313 [============================>.] - ETA: 0s - loss: 0.0111 - accuracy: 0.9964WARNING:tensorflow:Early stopping conditioned on metric `val_acc` which is not available. Available metrics are: loss,accuracy,val_loss,val_accuracy\n",
      "WARNING:tensorflow:Can save best model only with val_acc available, skipping.\n",
      "1313/1313 [==============================] - 19s 14ms/step - loss: 0.0110 - accuracy: 0.9964 - val_loss: 0.0421 - val_accuracy: 0.9898\n",
      "Epoch 47/50\n",
      "1310/1313 [============================>.] - ETA: 0s - loss: 0.0092 - accuracy: 0.9966WARNING:tensorflow:Early stopping conditioned on metric `val_acc` which is not available. Available metrics are: loss,accuracy,val_loss,val_accuracy\n",
      "WARNING:tensorflow:Can save best model only with val_acc available, skipping.\n",
      "1313/1313 [==============================] - 19s 15ms/step - loss: 0.0092 - accuracy: 0.9966 - val_loss: 0.0448 - val_accuracy: 0.9907\n",
      "Epoch 48/50\n",
      "1310/1313 [============================>.] - ETA: 0s - loss: 0.0091 - accuracy: 0.9967WARNING:tensorflow:Early stopping conditioned on metric `val_acc` which is not available. Available metrics are: loss,accuracy,val_loss,val_accuracy\n",
      "WARNING:tensorflow:Can save best model only with val_acc available, skipping.\n",
      "1313/1313 [==============================] - 18s 13ms/step - loss: 0.0091 - accuracy: 0.9967 - val_loss: 0.0469 - val_accuracy: 0.9902\n",
      "Epoch 49/50\n",
      "1309/1313 [============================>.] - ETA: 0s - loss: 0.0099 - accuracy: 0.9965WARNING:tensorflow:Early stopping conditioned on metric `val_acc` which is not available. Available metrics are: loss,accuracy,val_loss,val_accuracy\n",
      "WARNING:tensorflow:Can save best model only with val_acc available, skipping.\n",
      "1313/1313 [==============================] - 19s 14ms/step - loss: 0.0099 - accuracy: 0.9965 - val_loss: 0.0458 - val_accuracy: 0.9902\n",
      "Epoch 50/50\n",
      "1312/1313 [============================>.] - ETA: 0s - loss: 0.0101 - accuracy: 0.9965WARNING:tensorflow:Early stopping conditioned on metric `val_acc` which is not available. Available metrics are: loss,accuracy,val_loss,val_accuracy\n",
      "WARNING:tensorflow:Can save best model only with val_acc available, skipping.\n",
      "1313/1313 [==============================] - 18s 14ms/step - loss: 0.0101 - accuracy: 0.9965 - val_loss: 0.0444 - val_accuracy: 0.9909\n"
     ]
    }
   ],
   "source": [
    "# training the model\n",
    "his = model.fit(x_train, y_train, epochs=50, validation_split=0.3, callbacks=cb)"
   ]
  },
  {
   "cell_type": "code",
   "execution_count": 22,
   "metadata": {},
   "outputs": [],
   "source": [
    "# it saves the best model obtained in the above iterations\n",
    "model.save('bestmodel.h5')"
   ]
  },
  {
   "cell_type": "code",
   "execution_count": 24,
   "metadata": {},
   "outputs": [],
   "source": [
    "# loading the saved bestmodel\n",
    "model_s = keras.models.load_model(\"C://Users//DARSHAN R K//Desktop//ML//hdr//bestmodel.h5\")"
   ]
  },
  {
   "cell_type": "code",
   "execution_count": 25,
   "metadata": {},
   "outputs": [
    {
     "name": "stdout",
     "output_type": "stream",
     "text": [
      "313/313 [==============================] - 2s 6ms/step - loss: 0.0381 - accuracy: 0.9919\n"
     ]
    }
   ],
   "source": [
    "# testing/evaluating the model on test data\n",
    "score = model_s.evaluate(x_test, y_test)"
   ]
  },
  {
   "cell_type": "code",
   "execution_count": 26,
   "metadata": {},
   "outputs": [
    {
     "data": {
      "text/plain": [
       "[0.038112953305244446, 0.9919000267982483]"
      ]
     },
     "execution_count": 26,
     "metadata": {},
     "output_type": "execute_result"
    }
   ],
   "source": [
    "score"
   ]
  },
  {
   "attachments": {},
   "cell_type": "markdown",
   "metadata": {},
   "source": [
    "The above output shows that the model is 99.19 percent accurate, which is very good"
   ]
  },
  {
   "attachments": {},
   "cell_type": "markdown",
   "metadata": {},
   "source": []
  }
 ],
 "metadata": {
  "kernelspec": {
   "display_name": "base",
   "language": "python",
   "name": "python3"
  },
  "language_info": {
   "codemirror_mode": {
    "name": "ipython",
    "version": 3
   },
   "file_extension": ".py",
   "mimetype": "text/x-python",
   "name": "python",
   "nbconvert_exporter": "python",
   "pygments_lexer": "ipython3",
   "version": "3.10.5"
  },
  "orig_nbformat": 4
 },
 "nbformat": 4,
 "nbformat_minor": 2
}
